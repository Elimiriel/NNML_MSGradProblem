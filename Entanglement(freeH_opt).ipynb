{
 "cells": [
  {
   "cell_type": "markdown",
   "metadata": {},
   "source": [
    "# Neural Integration and Entanglement Entropy"
   ]
  },
  {
   "cell_type": "markdown",
   "metadata": {},
   "source": [
    "# imports"
   ]
  },
  {
   "cell_type": "code",
   "execution_count": null,
   "metadata": {},
   "outputs": [
    {
     "name": "stderr",
     "output_type": "stream",
     "text": [
      "2025-03-04 11:03:27,566\tINFO util.py:154 -- Outdated packages:\n",
      "  ipywidgets==7.8.1 found, needs ipywidgets>=8\n",
      "Run `pip install -U ipywidgets`, then restart the notebook server for rich notebook output.\n"
     ]
    }
   ],
   "source": [
    "import os\n",
    "import numpy as np\n",
    "import torch\n",
    "import torch.nn as nn\n",
    "import torch.multiprocessing as mp;\n",
    "%matplotlib inline\n",
    "import matplotlib as mpl;\n",
    "from matplotlib import pyplot as plt, font_manager as fm;\n",
    "from math import gamma\n",
    "import pandas as pd;\n",
    "import seaborn as sns;\n",
    "#\"\"\"Old level multiprocessing: complex in use and restricted to python's limits(Thread is still limited)\"\"\"\n",
    "from concurrent.futures import ThreadPoolExecutor, ProcessPoolExecutor, as_completed, wait, FIRST_COMPLETED;#new multiprocessings. Thread for multiIO, Process to multitask, as_comp... to wait\n",
    "import clibs;#set of main codes\n",
    "mp.set_start_method(\"spawn\", force=True);\n",
    "#os.environ[\"KMP_DUPLICATE_LIB_OK\"] = \"TRUE\"\n",
    "#extra dl model api: 일단 현재 구동 가능 후 사용해보자...\n",
    "#import keras;\n",
    "#from keras import layer;\n",
    "#from keras import ops;"
   ]
  },
  {
   "cell_type": "markdown",
   "metadata": {},
   "source": [
    "Graphic Font and fontsize Set"
   ]
  },
  {
   "cell_type": "code",
   "execution_count": 2,
   "metadata": {},
   "outputs": [],
   "source": [
    "usingGffam=[f.name for f in fm.fontManager.ttflist if \"Pretendard\" or \"Segoe\" in f.name] or None;\n",
    "if usingGffam and usingGffam.index(\"Pretendard JP Variable\"):\n",
    "    plt.rcParams[\"font.family\"]=\"Pretendard JP Variable\";\n",
    "else:\n",
    "    plt.rcParams[\"font.family\"]=\"Segoe UI Variable Text\";\n",
    "plt.rc('font', size=15)        # 기본 폰트 크기\n",
    "plt.rc('axes', labelsize=16)   # x,y축 label 폰트 크기\n",
    "plt.rc('xtick', labelsize=14)  # x축 눈금 폰트 크기 \n",
    "plt.rc('ytick', labelsize=14)  # y축 눈금 폰트 크기\n",
    "plt.rc('legend', fontsize=14)  # 범례 폰트 크기\n",
    "plt.rc('figure', titlesize=17) # figure title 폰트 크기\n",
    "#plt.rc(\"figure\", figsize=(5.5, 4));"
   ]
  },
  {
   "cell_type": "markdown",
   "metadata": {},
   "source": [
    "# Global/Initial physical vars for learning"
   ]
  },
  {
   "cell_type": "markdown",
   "metadata": {},
   "source": [
    "More detailed physical and precision-relate values are in phyp and pp"
   ]
  },
  {
   "cell_type": "code",
   "execution_count": null,
   "metadata": {},
   "outputs": [],
   "source": [
    "modeltypes = ['Linear-Axion','Gubser-Rocha-Axion'];\n",
    "#Starttime=clibs.Starttime;\n",
    "#k = 1.0\n",
    "mu = torch.arange(0.0, 2.0, 0.5);\n",
    "beta = torch.arange(0.0, 2.0, 0.5);\n",
    "#refQ = [0.0, 0.08584617289886354,0.12296275162005438,0.4714965502225489]\n",
    "nords=[1, 5, 5, 5, 1];\n",
    "z=torch.arange(0.0, 1.0+0.01, 0.01)\n",
    "zast=z[-2];\n",
    "vErr=clibs.perfparameters.vErr;"
   ]
  },
  {
   "cell_type": "markdown",
   "metadata": {},
   "source": [
    "# "
   ]
  },
  {
   "cell_type": "markdown",
   "metadata": {},
   "source": [
    "# Class Init"
   ]
  },
  {
   "cell_type": "code",
   "execution_count": null,
   "metadata": {},
   "outputs": [
    {
     "name": "stderr",
     "output_type": "stream",
     "text": [
      "d:\\Onedrive\\OneDrive - GIST\\2024-OVERSIGHT\\PaperCode\\2412\\custompacks\\refdata.py:30: SyntaxWarning: invalid escape sequence '\\s'\n",
      "  \"\"\"re.match: 문자열의 시작부터 정규식이 일치하는지 확인합니다. re.IGNORECASE: 대소문자 구별을 무시합니다.\n"
     ]
    },
    {
     "ename": "RuntimeError",
     "evalue": "The size of tensor a (4) must match the size of tensor b (101) at non-singleton dimension 1",
     "output_type": "error",
     "traceback": [
      "\u001b[1;31m---------------------------------------------------------------------------\u001b[0m",
      "\u001b[1;31mRuntimeError\u001b[0m                              Traceback (most recent call last)",
      "Cell \u001b[1;32mIn[4], line 2\u001b[0m\n\u001b[0;32m      1\u001b[0m LiAxRef\u001b[38;5;241m=\u001b[39mcust\u001b[38;5;241m.\u001b[39mrefdata\u001b[38;5;241m.\u001b[39mReference(modeltypes[\u001b[38;5;241m0\u001b[39m], z, beta, mu);\n\u001b[1;32m----> 2\u001b[0m LiT, Lis\u001b[38;5;241m=\u001b[39m\u001b[43mLiAxRef\u001b[49m\u001b[38;5;241;43m.\u001b[39;49m\u001b[43msdT_sols\u001b[49m\u001b[43m(\u001b[49m\u001b[43m)\u001b[49m;\n\u001b[0;32m      3\u001b[0m cust\u001b[38;5;241m.\u001b[39mdataiod\u001b[38;5;241m.\u001b[39mTensDFrame(\u001b[38;5;28;01mFalse\u001b[39;00m, \u001b[38;5;28;01mFalse\u001b[39;00m, z, Lis)\u001b[38;5;241m.\u001b[39mdrawseaborn(\u001b[38;5;124m\"\u001b[39m\u001b[38;5;124mscatter\u001b[39m\u001b[38;5;124m\"\u001b[39m, \u001b[38;5;124m\"\u001b[39m\u001b[38;5;124mz\u001b[39m\u001b[38;5;124m\"\u001b[39m, \u001b[38;5;124m\"\u001b[39m\u001b[38;5;124mLis\u001b[39m\u001b[38;5;124m\"\u001b[39m);\n\u001b[0;32m      4\u001b[0m torch\u001b[38;5;241m.\u001b[39msave(LiAxRef, \u001b[38;5;124m\"\u001b[39m\u001b[38;5;124mLiax.pt\u001b[39m\u001b[38;5;124m\"\u001b[39m);\n",
      "File \u001b[1;32md:\\Onedrive\\OneDrive - GIST\\2024-OVERSIGHT\\PaperCode\\2412\\custompacks\\refdata.py:126\u001b[0m, in \u001b[0;36mReference.sdT_sols\u001b[1;34m(self)\u001b[0m\n\u001b[0;32m    124\u001b[0m \u001b[38;5;28;01mdef\u001b[39;00m \u001b[38;5;21msdT_sols\u001b[39m(\u001b[38;5;28mself\u001b[39m):\n\u001b[0;32m    125\u001b[0m     z\u001b[38;5;241m=\u001b[39m\u001b[38;5;28mself\u001b[39m\u001b[38;5;241m.\u001b[39mz;\n\u001b[1;32m--> 126\u001b[0m     \u001b[38;5;28;01mreturn\u001b[39;00m \u001b[38;5;28;43mself\u001b[39;49m\u001b[38;5;241;43m.\u001b[39;49m\u001b[43mref_HawkT\u001b[49m\u001b[43m(\u001b[49m\u001b[43mz\u001b[49m\u001b[43m)\u001b[49m, \u001b[38;5;28mself\u001b[39m\u001b[38;5;241m.\u001b[39mref_sden(z)\n",
      "File \u001b[1;32md:\\Onedrive\\OneDrive - GIST\\2024-OVERSIGHT\\PaperCode\\2412\\custompacks\\refdata.py:101\u001b[0m, in \u001b[0;36mReference.ref_HawkT\u001b[1;34m(self, z)\u001b[0m\n\u001b[0;32m    100\u001b[0m \u001b[38;5;28;01mdef\u001b[39;00m \u001b[38;5;21mref_HawkT\u001b[39m(\u001b[38;5;28mself\u001b[39m, z):\n\u001b[1;32m--> 101\u001b[0m     zhoriz\u001b[38;5;241m=\u001b[39mtorch\u001b[38;5;241m.\u001b[39mones_like(\u001b[38;5;28;43mself\u001b[39;49m\u001b[38;5;241;43m.\u001b[39;49m\u001b[43mref_G\u001b[49m\u001b[43m(\u001b[49m\u001b[43mz\u001b[49m\u001b[43m)\u001b[49m, dtype\u001b[38;5;241m=\u001b[39mrealTType);\n\u001b[0;32m    102\u001b[0m     \u001b[38;5;28;01mreturn\u001b[39;00m torch\u001b[38;5;241m.\u001b[39mfunc\u001b[38;5;241m.\u001b[39mjacfwd(\u001b[38;5;28mself\u001b[39m\u001b[38;5;241m.\u001b[39mref_G(z), randomness\u001b[38;5;241m=\u001b[39m\u001b[38;5;124m\"\u001b[39m\u001b[38;5;124msame\u001b[39m\u001b[38;5;124m\"\u001b[39m)(zhoriz)\u001b[38;5;241m/\u001b[39m(\u001b[38;5;241m4\u001b[39m\u001b[38;5;241m*\u001b[39mtorch\u001b[38;5;241m.\u001b[39mpi)\n",
      "File \u001b[1;32md:\\Onedrive\\OneDrive - GIST\\2024-OVERSIGHT\\PaperCode\\2412\\custompacks\\refdata.py:66\u001b[0m, in \u001b[0;36mReference.ref_G\u001b[1;34m(self, z)\u001b[0m\n\u001b[0;32m     64\u001b[0m     \u001b[38;5;28;01mfor\u001b[39;00m mind \u001b[38;5;129;01min\u001b[39;00m \u001b[38;5;28mrange\u001b[39m(\u001b[38;5;241m0\u001b[39m, \u001b[38;5;28mself\u001b[39m\u001b[38;5;241m.\u001b[39mmu\u001b[38;5;241m.\u001b[39msize(dim\u001b[38;5;241m=\u001b[39m\u001b[38;5;241m-\u001b[39m\u001b[38;5;241m1\u001b[39m), \u001b[38;5;241m1\u001b[39m):\n\u001b[0;32m     65\u001b[0m         \u001b[38;5;28;01mfor\u001b[39;00m bind \u001b[38;5;129;01min\u001b[39;00m \u001b[38;5;28mrange\u001b[39m(\u001b[38;5;241m0\u001b[39m, \u001b[38;5;28mself\u001b[39m\u001b[38;5;241m.\u001b[39mbeta\u001b[38;5;241m.\u001b[39msize(dim\u001b[38;5;241m=\u001b[39m\u001b[38;5;241m-\u001b[39m\u001b[38;5;241m1\u001b[39m), \u001b[38;5;241m1\u001b[39m):\n\u001b[1;32m---> 66\u001b[0m             res\u001b[38;5;241m.\u001b[39mappend(\u001b[38;5;241m1.0\u001b[39m\u001b[38;5;241m-\u001b[39m \u001b[43m(\u001b[49m\u001b[38;5;28;43mself\u001b[39;49m\u001b[38;5;241;43m.\u001b[39;49m\u001b[43mbeta\u001b[49m\u001b[43m[\u001b[49m\u001b[43mbind\u001b[49m\u001b[43m]\u001b[49m\u001b[38;5;241;43m*\u001b[39;49m\u001b[38;5;241;43m*\u001b[39;49m\u001b[38;5;241;43m2\u001b[39;49m\u001b[43m)\u001b[49m\u001b[38;5;241;43m*\u001b[39;49m\u001b[43m(\u001b[49m\u001b[43mz\u001b[49m\u001b[38;5;241;43m*\u001b[39;49m\u001b[38;5;241;43m*\u001b[39;49m\u001b[38;5;241;43m2\u001b[39;49m\u001b[43m)\u001b[49m \u001b[38;5;241m/\u001b[39m \u001b[38;5;241m2.0\u001b[39m \u001b[38;5;241m+\u001b[39m ((\u001b[38;5;28mself\u001b[39m\u001b[38;5;241m.\u001b[39mmu[mind]\u001b[38;5;241m*\u001b[39mz\u001b[38;5;241m*\u001b[39m\u001b[38;5;241m*\u001b[39m\u001b[38;5;241m2\u001b[39m)\u001b[38;5;241m*\u001b[39m\u001b[38;5;241m*\u001b[39m\u001b[38;5;241m2\u001b[39m) \u001b[38;5;241m/\u001b[39m \u001b[38;5;241m4.0\u001b[39m\u001b[38;5;241m-\u001b[39m (\u001b[38;5;241m1.0\u001b[39m \u001b[38;5;241m-\u001b[39m (\u001b[38;5;28mself\u001b[39m\u001b[38;5;241m.\u001b[39mbeta[bind]\u001b[38;5;241m*\u001b[39m\u001b[38;5;241m*\u001b[39m\u001b[38;5;241m2\u001b[39m \u001b[38;5;241m/\u001b[39m \u001b[38;5;241m2.0\u001b[39m)\u001b[38;5;241m+\u001b[39m (\u001b[38;5;28mself\u001b[39m\u001b[38;5;241m.\u001b[39mmu[mind]\u001b[38;5;241m*\u001b[39m\u001b[38;5;241m*\u001b[39m\u001b[38;5;241m4\u001b[39m) \u001b[38;5;241m/\u001b[39m \u001b[38;5;241m4.0\u001b[39m)\u001b[38;5;241m*\u001b[39mz\u001b[38;5;241m*\u001b[39m\u001b[38;5;241m*\u001b[39m\u001b[38;5;241m3\u001b[39m);\n\u001b[0;32m     67\u001b[0m     res\u001b[38;5;241m=\u001b[39mtorch\u001b[38;5;241m.\u001b[39mstack(res);\n\u001b[0;32m     68\u001b[0m \u001b[38;5;28;01mreturn\u001b[39;00m res\n",
      "\u001b[1;31mRuntimeError\u001b[0m: The size of tensor a (4) must match the size of tensor b (101) at non-singleton dimension 1"
     ]
    }
   ],
   "source": [
    "LiAxRef=clibs.refdata.Reference(modeltypes[0], z, beta, mu);\n",
    "LiT, Lis=LiAxRef.sdT_sols();\n",
    "clibs.dataiod.TensDFrame(False, False, z, Lis).drawseaborn(\"scatter\", \"z\", \"Lis\");\n",
    "torch.save(LiAxRef, \"Liax.pt\");\n",
    "GRRef=clibs.refdata.Reference(modeltypes[1], z, beta, mu);\n",
    "GT, Gs=GRRef.sdT_sols(z);\n",
    "clibs.dataiod.TensDFrame(False, False, z, Gs).drawseaborn(\"scatter\", \"z\", \"Gs\");\n",
    "torch.save(GRRef, \"GR.pt\");"
   ]
  },
  {
   "cell_type": "code",
   "execution_count": null,
   "metadata": {},
   "outputs": [],
   "source": [
    "if  __name__==\"__main__\":\n",
    "    RayMPWrapper=clibs.tensormultiprocessings.RayTorchMP();\n",
    "    Models=[[[None for _ in enumerate(beta)] for _ in enumerate(mu)] for _ in enumerate(modeltypes)];\n",
    "    Refdata=[[[None for _ in enumerate(beta)] for _ in enumerate(mu)] for _ in enumerate(modeltypes)];\n",
    "    for mind, _ in enumerate(modeltypes):\n",
    "        for uind, _ in enumerate(mu):\n",
    "            for bind, _ in enumerate(beta):\n",
    "                ModelsA[mind][uind][bind]=clibs.model.DNNP(z, nords, 1e-4);\n",
    "                ModelsB[mind][uind][bind]=clibs.model.DNNP(z, nords, 1e-4, False);\n",
    "    Trainer=clibs.tensormultiprocessings.raydeclare(clibs.Train(modeltypes, beta, mu, vErr));\n",
    "    RayMPWrapper.multiprocess(Trainer.train(ModelsA, clibs.Pathbuild(False).rtfpath_time(res, res, pt)));\n",
    "    RayMPWrapper.multiprocess(Trainer.train(ModelsB, clibs.Pathbuild(False).rtfpath_time(res, res, pt)));"
   ]
  },
  {
   "cell_type": "markdown",
   "metadata": {},
   "source": [
    "# l-S polynomials"
   ]
  },
  {
   "cell_type": "code",
   "execution_count": null,
   "metadata": {},
   "outputs": [],
   "source": [
    "class SGHDiag():\n",
    "    def __init__(self, z, maxlorder, learntmodel):\n",
    "        self.l0=-2.0*torch.pi*(gamma(3.0/4.0)/gamma(1.0/4.0))**2;\n",
    "        self.maxlorder=maxlorder;\n",
    "        self.z=z;\n",
    "        self.l_m, self.S_m=learntmodel;\n",
    "        \n",
    "    def lfits(self):\n",
    "        z=self.z;\n",
    "        l_m=self.l_m;\n",
    "        S_m=self.S_m;\n",
    "        remainr=[[z], []];\n",
    "        for lorder in range(0, self.maxlord+2, 1):\n",
    "            remainr[1, lorder]=(1-(S_m/(l_m**(lorder-1))));\n",
    "            s_m=(s_m-remainr[1, lorder]*(l_m**(lorder-1)));\n",
    "        with ThreadPoolExecutor(max_workers=pp.cpuworkers) as io_exec:\n",
    "            fullmessage=[]\n",
    "            for ind in range(0, len(z), 1):\n",
    "                for lorder in range(0, self.maxlorder+2, 1):\n",
    "                    fullmessage.append(f\"zhorizon={remainr[0, :]}, $l^{lorder-1}$={l_m**(lorder-1)}\\n\"+f\"$c_{lorder-1}$={remainr[1, lorder, :]}\\n\\n\");\n",
    "        clibs.DataIO(remainr, \"l-s series.txt\").tfwrite();\n",
    "        return remainr, fullmessage;\n",
    "            "
   ]
  },
  {
   "cell_type": "markdown",
   "metadata": {},
   "source": [
    "# Processing Part"
   ]
  }
 ],
 "metadata": {
  "kernelspec": {
   "display_name": "base",
   "language": "python",
   "name": "python3"
  },
  "language_info": {
   "codemirror_mode": {
    "name": "ipython",
    "version": 3
   },
   "file_extension": ".py",
   "mimetype": "text/x-python",
   "name": "python",
   "nbconvert_exporter": "python",
   "pygments_lexer": "ipython3",
   "version": "3.12.9"
  }
 },
 "nbformat": 4,
 "nbformat_minor": 2
}
